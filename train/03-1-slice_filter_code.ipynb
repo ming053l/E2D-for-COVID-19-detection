{
 "cells": [
  {
   "cell_type": "code",
   "execution_count": 1,
   "metadata": {},
   "outputs": [],
   "source": [
    "import pickle, pandas as pd, numpy as np, os"
   ]
  },
  {
   "cell_type": "code",
   "execution_count": 6,
   "metadata": {},
   "outputs": [
    {
     "data": {
      "text/plain": [
       "4308"
      ]
     },
     "execution_count": 6,
     "metadata": {},
     "output_type": "execute_result"
    }
   ],
   "source": [
    "len(os.listdir(\"../../2023_covid/test_covid/unzip_ct/\"))"
   ]
  },
  {
   "cell_type": "code",
   "execution_count": 30,
   "metadata": {},
   "outputs": [
    {
     "name": "stdout",
     "output_type": "stream",
     "text": [
      "1358 326\n"
     ]
    }
   ],
   "source": [
    "with open('/ssd2/ming/2024COVID/train_dic1_05_challenge.pickle', 'rb') as f:\n",
    "    train_dic = pickle.load(f)\n",
    "with open('/ssd2/ming/2024COVID/valid_dic1_05_challenge.pickle', 'rb') as f:\n",
    "    valid_dic = pickle.load(f)\n",
    "print(len(train_dic),len(valid_dic))"
   ]
  },
  {
   "cell_type": "code",
   "execution_count": 5,
   "metadata": {},
   "outputs": [],
   "source": [
    "replace_list = [\"extra_challenge1_non_cov_train_new_icassp\",\"extra_challenge1_non_cov_val_new_icassp\",\"extra_challenge1_cov_val_new_icassp\"]\n",
    "copy_train_dic = {}\n",
    "for keys_, value in train_dic.items():\n",
    "    if \"extra_challenge1_non_cov_train_new_icassp\" in keys_:\n",
    "        old_path = \"/ssd2/ming/2024COVID/train/negative/\"\n",
    "        new_path = \"/ssd2/ming/2024COVID/train_pure_crop_challenge/negative/\"\n",
    "        new_key = keys_.replace(old_path, new_path)\n",
    "    else:\n",
    "        new_key = keys_\n",
    "    copy_train_dic[new_key] = value\n",
    "train_dic = copy_train_dic\n",
    "copy_train_dic = {}\n",
    "for keys_, value in train_dic.items():\n",
    "    if \"extra_challenge1_non_cov_train_new_icassp\" in keys_:\n",
    "        old_path = \"/ssd2/ming/2024COVID/train/positive/\"\n",
    "        new_path = \"/ssd2/ming/2024COVID/train_pure_crop_challenge/positive/\"\n",
    "        new_key = keys_.replace(old_path, new_path)\n",
    "    else:\n",
    "        new_key = keys_\n",
    "    copy_train_dic[new_key] = value\n",
    "train_dic = copy_train_dic\n",
    "copy_valid_dic = {}\n",
    "for keys_, value in valid_dic.items():\n",
    "    if \"extra_challenge1_non_cov_val_new_icassp\" in keys_:\n",
    "        old_path = \"/ssd2/ming/2024COVID/valid/negative/\"\n",
    "        new_path = \"/ssd2/ming/2024COVID/valid_pure_crop_challenge/negative/\"\n",
    "        new_key = keys_.replace(old_path, new_path)\n",
    "    else:\n",
    "        new_key = keys_\n",
    "    copy_valid_dic[new_key] = value\n",
    "valid_dic = copy_valid_dic\n",
    "copy_valid_dic = {}\n",
    "for keys_, value in valid_dic.items():\n",
    "    if \"extra_challenge1_cov_val_new_icassp\" in keys_:\n",
    "        old_path = \"/ssd2/ming/2024COVID/valid/positive/\"\n",
    "        new_path = \"/ssd2/ming/2024COVID/valid_pure_crop_challenge/positive/\"\n",
    "        new_key = keys_.replace(old_path, new_path)\n",
    "    else:\n",
    "        new_key = keys_\n",
    "    copy_valid_dic[new_key] = value\n",
    "valid_dic = copy_valid_dic"
   ]
  },
  {
   "cell_type": "code",
   "execution_count": 12,
   "metadata": {},
   "outputs": [
    {
     "data": {
      "text/plain": [
       "1358"
      ]
     },
     "execution_count": 12,
     "metadata": {},
     "output_type": "execute_result"
    }
   ],
   "source": [
    "len(train_dic)"
   ]
  },
  {
   "cell_type": "code",
   "execution_count": null,
   "metadata": {},
   "outputs": [],
   "source": [
    "train_df = pd.DataFrame(None, columns=['path', 'filename', 'label'])\n",
    "valid_df = pd.DataFrame(None, columns=['path', 'filename', 'label'])\n",
    "\n",
    "print(\"=\"*10, \"loading data DataFrame\", \"=\"*10)\n",
    "for path in list(train_dic.keys()):\n",
    "    image_list = os.listdir(path)\n",
    "    image_list.sort(key=lambda x: int(os.path.splitext(x)[0]))\n",
    "    temp_df = pd.DataFrame([path]*len(image_list), columns=['path'])\n",
    "    temp_df['filename'] = image_list\n",
    "    if 'negative' in temp_df.path[0]:\n",
    "        temp_df['label'] = [0]*len(image_list)\n",
    "    else:\n",
    "        temp_df['label'] = [1]*len(image_list)\n",
    "    train_df = pd.concat([train_df, temp_df])\n",
    "\n",
    "for path in list(valid_dic.keys()):\n",
    "    image_list = os.listdir(path)\n",
    "    image_list.sort(key=lambda x: int(os.path.splitext(x)[0]))\n",
    "    temp_df = pd.DataFrame([path]*len(image_list), columns=['path'])\n",
    "    temp_df['filename'] = image_list\n",
    "    if 'negative' in temp_df.path[0]:\n",
    "        temp_df['label'] = [0]*len(image_list)\n",
    "    else:\n",
    "        temp_df['label'] = [1]*len(image_list)\n",
    "    valid_df = pd.concat([valid_df, temp_df]) "
   ]
  },
  {
   "cell_type": "code",
   "execution_count": 18,
   "metadata": {},
   "outputs": [
    {
     "name": "stdout",
     "output_type": "stream",
     "text": [
      "1358 326\n",
      "(384916, 3) (89671, 3)\n"
     ]
    }
   ],
   "source": [
    "import copy\n",
    "cp_train_dic = copy.deepcopy(train_dic)\n",
    "cp_valid_dic = copy.deepcopy(valid_dic)\n",
    "print(len(train_dic), len(valid_dic))\n",
    "print(train_df.shape, valid_df.shape)"
   ]
  },
  {
   "cell_type": "code",
   "execution_count": 21,
   "metadata": {},
   "outputs": [
    {
     "name": "stdout",
     "output_type": "stream",
     "text": [
      "張數1 /ssd2/ming/2024COVID/train_pure_crop_challenge/negative/ct_scan_292\n",
      "張數1 /ssd2/ming/2024COVID/train_pure_crop_challenge/negative/ct_scan_354\n",
      "張數1 /ssd2/ming/2024COVID/train_pure_crop_challenge/negative/ct_scan_449\n",
      "張數1 /ssd2/ming/2024COVID/train_pure_crop_challenge/negative/ct_scan_538\n",
      "張數4 /ssd2/ming/2024COVID/train_pure_crop_challenge/positive/ct_scan_107\n",
      "張數1 /ssd2/ming/2024COVID/train_pure_crop_challenge/positive/ct_scan_306\n",
      "張數1 /ssd2/ming/2024COVID/train_pure_crop_challenge/positive/ct_scan_31\n",
      "張數1 /ssd2/ming/2024COVID/train_pure_crop_challenge/positive/ct_scan_47\n",
      "張數1 /ssd2/ming/2024COVID/train_pure_crop_challenge/positive/ct_scan_64\n",
      "張數1 /ssd2/ming/2024COVID/valid_pure_crop_challenge/negative/ct_scan_101\n",
      "張數1 /ssd2/ming/2024COVID/valid_pure_crop_challenge/negative/ct_scan_130\n",
      "張數1 /ssd2/ming/2024COVID/valid_pure_crop_challenge/negative/ct_scan_15\n",
      "張數1 /ssd2/ming/2024COVID/valid_pure_crop_challenge/positive/ct_scan_101\n",
      "張數1 /ssd2/ming/2024COVID/valid_pure_crop_challenge/positive/ct_scan_18\n",
      "張數1 /ssd2/ming/2024COVID/valid_pure_crop_challenge/positive/ct_scan_40\n",
      "張數1 /ssd2/ming/2024COVID/valid_pure_crop_challenge/positive/ct_scan_46\n",
      "張數1 /ssd2/ming/2024COVID/valid_pure_crop_challenge/positive/ct_scan_48\n",
      "1349 318\n",
      "(1349, 2) (318, 2)\n",
      "12 8\n"
     ]
    }
   ],
   "source": [
    "drop_count_t = 0\n",
    "filter_num = 5\n",
    "for path_ in train_dic:\n",
    "    i = len(os.listdir(path_))\n",
    "    if i <filter_num:\n",
    "        print(f\"張數{i}\", path_)\n",
    "        drop_count_t = drop_count_t + i\n",
    "        del cp_train_dic[path_]\n",
    "        train_df = train_df[train_df.path!=path_]\n",
    "drop_count_v = 0\n",
    "for path_ in valid_dic:\n",
    "    i = len(os.listdir(path_))\n",
    "    if i <filter_num:\n",
    "        print(f\"張數{i}\", path_)\n",
    "        drop_count_v = drop_count_v + i\n",
    "        del cp_valid_dic[path_]\n",
    "        valid_df = valid_df[valid_df.path!=path_]\n",
    "\n",
    "print(len(cp_train_dic), len(cp_valid_dic))\n",
    "print(train_df.shape, valid_df.shape)\n",
    "print(drop_count_t, drop_count_v)"
   ]
  },
  {
   "cell_type": "code",
   "execution_count": 27,
   "metadata": {},
   "outputs": [
    {
     "name": "stdout",
     "output_type": "stream",
     "text": [
      "(1349, 2) (318, 2)\n"
     ]
    }
   ],
   "source": [
    "train_df = train_df[['path', 'label']]\n",
    "valid_df = valid_df[['path', 'label']]\n",
    "train_df = train_df.drop_duplicates(subset='path')\n",
    "valid_df = valid_df.drop_duplicates(subset='path')\n",
    "print(train_df.shape, valid_df.shape)"
   ]
  },
  {
   "cell_type": "code",
   "execution_count": 28,
   "metadata": {},
   "outputs": [],
   "source": [
    "with open('/ssd2/ming/2024COVID/filter_slice_train_dic1_05_challenge.pickle', 'wb') as handle:\n",
    "    pickle.dump(cp_train_dic, handle, protocol=pickle.HIGHEST_PROTOCOL)\n",
    "with open('/ssd2/ming/2024COVID/filter_slice_valid_dic1_05_challenge.pickle', 'wb') as handle:\n",
    "    pickle.dump(cp_valid_dic, handle, protocol=pickle.HIGHEST_PROTOCOL)\n",
    "train_df.to_csv(\"/ssd2/ming/2024COVID/filter_slice_train_df_challenge.csv\", index=False, encoding='utf-8-sig')\n",
    "valid_df.to_csv(\"/ssd2/ming/2024COVID/filter_slice_valid_df_challenge.csv\", index=False, encoding='utf-8-sig')"
   ]
  },
  {
   "cell_type": "code",
   "execution_count": 29,
   "metadata": {},
   "outputs": [
    {
     "data": {
      "text/html": [
       "<div>\n",
       "<style scoped>\n",
       "    .dataframe tbody tr th:only-of-type {\n",
       "        vertical-align: middle;\n",
       "    }\n",
       "\n",
       "    .dataframe tbody tr th {\n",
       "        vertical-align: top;\n",
       "    }\n",
       "\n",
       "    .dataframe thead th {\n",
       "        text-align: right;\n",
       "    }\n",
       "</style>\n",
       "<table border=\"1\" class=\"dataframe\">\n",
       "  <thead>\n",
       "    <tr style=\"text-align: right;\">\n",
       "      <th></th>\n",
       "      <th>path</th>\n",
       "      <th>label</th>\n",
       "    </tr>\n",
       "  </thead>\n",
       "  <tbody>\n",
       "    <tr>\n",
       "      <th>0</th>\n",
       "      <td>/ssd2/ming/2024COVID/train_pure_crop_challenge...</td>\n",
       "      <td>0</td>\n",
       "    </tr>\n",
       "    <tr>\n",
       "      <th>0</th>\n",
       "      <td>/ssd2/ming/2024COVID/train_pure_crop_challenge...</td>\n",
       "      <td>0</td>\n",
       "    </tr>\n",
       "    <tr>\n",
       "      <th>0</th>\n",
       "      <td>/ssd2/ming/2024COVID/train_pure_crop_challenge...</td>\n",
       "      <td>0</td>\n",
       "    </tr>\n",
       "    <tr>\n",
       "      <th>0</th>\n",
       "      <td>/ssd2/ming/2024COVID/train_pure_crop_challenge...</td>\n",
       "      <td>0</td>\n",
       "    </tr>\n",
       "    <tr>\n",
       "      <th>0</th>\n",
       "      <td>/ssd2/ming/2024COVID/train_pure_crop_challenge...</td>\n",
       "      <td>0</td>\n",
       "    </tr>\n",
       "    <tr>\n",
       "      <th>...</th>\n",
       "      <td>...</td>\n",
       "      <td>...</td>\n",
       "    </tr>\n",
       "    <tr>\n",
       "      <th>0</th>\n",
       "      <td>/ssd2/ming/2024COVID/train_pure_crop_challenge...</td>\n",
       "      <td>1</td>\n",
       "    </tr>\n",
       "    <tr>\n",
       "      <th>0</th>\n",
       "      <td>/ssd2/ming/2024COVID/train_pure_crop_challenge...</td>\n",
       "      <td>1</td>\n",
       "    </tr>\n",
       "    <tr>\n",
       "      <th>0</th>\n",
       "      <td>/ssd2/ming/2024COVID/train_pure_crop_challenge...</td>\n",
       "      <td>1</td>\n",
       "    </tr>\n",
       "    <tr>\n",
       "      <th>0</th>\n",
       "      <td>/ssd2/ming/2024COVID/train_pure_crop_challenge...</td>\n",
       "      <td>1</td>\n",
       "    </tr>\n",
       "    <tr>\n",
       "      <th>0</th>\n",
       "      <td>/ssd2/ming/2024COVID/train_pure_crop_challenge...</td>\n",
       "      <td>1</td>\n",
       "    </tr>\n",
       "  </tbody>\n",
       "</table>\n",
       "<p>1349 rows × 2 columns</p>\n",
       "</div>"
      ],
      "text/plain": [
       "                                                 path label\n",
       "0   /ssd2/ming/2024COVID/train_pure_crop_challenge...     0\n",
       "0   /ssd2/ming/2024COVID/train_pure_crop_challenge...     0\n",
       "0   /ssd2/ming/2024COVID/train_pure_crop_challenge...     0\n",
       "0   /ssd2/ming/2024COVID/train_pure_crop_challenge...     0\n",
       "0   /ssd2/ming/2024COVID/train_pure_crop_challenge...     0\n",
       "..                                                ...   ...\n",
       "0   /ssd2/ming/2024COVID/train_pure_crop_challenge...     1\n",
       "0   /ssd2/ming/2024COVID/train_pure_crop_challenge...     1\n",
       "0   /ssd2/ming/2024COVID/train_pure_crop_challenge...     1\n",
       "0   /ssd2/ming/2024COVID/train_pure_crop_challenge...     1\n",
       "0   /ssd2/ming/2024COVID/train_pure_crop_challenge...     1\n",
       "\n",
       "[1349 rows x 2 columns]"
      ]
     },
     "execution_count": 29,
     "metadata": {},
     "output_type": "execute_result"
    }
   ],
   "source": [
    "train_df"
   ]
  }
 ],
 "metadata": {
  "kernelspec": {
   "display_name": "covid2023",
   "language": "python",
   "name": "python3"
  },
  "language_info": {
   "codemirror_mode": {
    "name": "ipython",
    "version": 3
   },
   "file_extension": ".py",
   "mimetype": "text/x-python",
   "name": "python",
   "nbconvert_exporter": "python",
   "pygments_lexer": "ipython3",
   "version": "3.10.0"
  },
  "orig_nbformat": 4,
  "vscode": {
   "interpreter": {
    "hash": "35e4eaf7fc1241741242c84999f2000af8b451353219079a4e5df2fc9b8f3715"
   }
  }
 },
 "nbformat": 4,
 "nbformat_minor": 2
}
