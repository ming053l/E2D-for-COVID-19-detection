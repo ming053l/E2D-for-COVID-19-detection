{
 "cells": [
  {
   "cell_type": "code",
   "execution_count": 1,
   "metadata": {},
   "outputs": [],
   "source": [
    "import pickle, pandas as pd, numpy as np, os"
   ]
  },
  {
   "cell_type": "code",
   "execution_count": 4,
   "metadata": {},
   "outputs": [],
   "source": [
    "test_pickle = \"/ssd2/ming/2024COVID/test_dic1_05.pickle\" \n",
    "with open(test_pickle, 'rb') as f:\n",
    "    test_dic = pickle.load(f)"
   ]
  },
  {
   "cell_type": "code",
   "execution_count": 6,
   "metadata": {},
   "outputs": [
    {
     "data": {
      "text/html": [
       "<div>\n",
       "<style scoped>\n",
       "    .dataframe tbody tr th:only-of-type {\n",
       "        vertical-align: middle;\n",
       "    }\n",
       "\n",
       "    .dataframe tbody tr th {\n",
       "        vertical-align: top;\n",
       "    }\n",
       "\n",
       "    .dataframe thead th {\n",
       "        text-align: right;\n",
       "    }\n",
       "</style>\n",
       "<table border=\"1\" class=\"dataframe\">\n",
       "  <thead>\n",
       "    <tr style=\"text-align: right;\">\n",
       "      <th></th>\n",
       "      <th>path</th>\n",
       "      <th>filename</th>\n",
       "    </tr>\n",
       "  </thead>\n",
       "  <tbody>\n",
       "    <tr>\n",
       "      <th>0</th>\n",
       "      <td>/ssd2/ming/2024COVID/test_crop/00c5hbz5.4rp</td>\n",
       "      <td>0.jpg</td>\n",
       "    </tr>\n",
       "    <tr>\n",
       "      <th>1</th>\n",
       "      <td>/ssd2/ming/2024COVID/test_crop/00c5hbz5.4rp</td>\n",
       "      <td>1.jpg</td>\n",
       "    </tr>\n",
       "    <tr>\n",
       "      <th>2</th>\n",
       "      <td>/ssd2/ming/2024COVID/test_crop/00c5hbz5.4rp</td>\n",
       "      <td>2.jpg</td>\n",
       "    </tr>\n",
       "    <tr>\n",
       "      <th>3</th>\n",
       "      <td>/ssd2/ming/2024COVID/test_crop/00c5hbz5.4rp</td>\n",
       "      <td>3.jpg</td>\n",
       "    </tr>\n",
       "    <tr>\n",
       "      <th>4</th>\n",
       "      <td>/ssd2/ming/2024COVID/test_crop/00c5hbz5.4rp</td>\n",
       "      <td>4.jpg</td>\n",
       "    </tr>\n",
       "    <tr>\n",
       "      <th>...</th>\n",
       "      <td>...</td>\n",
       "      <td>...</td>\n",
       "    </tr>\n",
       "    <tr>\n",
       "      <th>365</th>\n",
       "      <td>/ssd2/ming/2024COVID/test_crop/zge41qxy.04q</td>\n",
       "      <td>365.jpg</td>\n",
       "    </tr>\n",
       "    <tr>\n",
       "      <th>366</th>\n",
       "      <td>/ssd2/ming/2024COVID/test_crop/zge41qxy.04q</td>\n",
       "      <td>366.jpg</td>\n",
       "    </tr>\n",
       "    <tr>\n",
       "      <th>367</th>\n",
       "      <td>/ssd2/ming/2024COVID/test_crop/zge41qxy.04q</td>\n",
       "      <td>367.jpg</td>\n",
       "    </tr>\n",
       "    <tr>\n",
       "      <th>368</th>\n",
       "      <td>/ssd2/ming/2024COVID/test_crop/zge41qxy.04q</td>\n",
       "      <td>368.jpg</td>\n",
       "    </tr>\n",
       "    <tr>\n",
       "      <th>369</th>\n",
       "      <td>/ssd2/ming/2024COVID/test_crop/zge41qxy.04q</td>\n",
       "      <td>369.jpg</td>\n",
       "    </tr>\n",
       "  </tbody>\n",
       "</table>\n",
       "<p>436394 rows × 2 columns</p>\n",
       "</div>"
      ],
      "text/plain": [
       "                                            path filename\n",
       "0    /ssd2/ming/2024COVID/test_crop/00c5hbz5.4rp    0.jpg\n",
       "1    /ssd2/ming/2024COVID/test_crop/00c5hbz5.4rp    1.jpg\n",
       "2    /ssd2/ming/2024COVID/test_crop/00c5hbz5.4rp    2.jpg\n",
       "3    /ssd2/ming/2024COVID/test_crop/00c5hbz5.4rp    3.jpg\n",
       "4    /ssd2/ming/2024COVID/test_crop/00c5hbz5.4rp    4.jpg\n",
       "..                                           ...      ...\n",
       "365  /ssd2/ming/2024COVID/test_crop/zge41qxy.04q  365.jpg\n",
       "366  /ssd2/ming/2024COVID/test_crop/zge41qxy.04q  366.jpg\n",
       "367  /ssd2/ming/2024COVID/test_crop/zge41qxy.04q  367.jpg\n",
       "368  /ssd2/ming/2024COVID/test_crop/zge41qxy.04q  368.jpg\n",
       "369  /ssd2/ming/2024COVID/test_crop/zge41qxy.04q  369.jpg\n",
       "\n",
       "[436394 rows x 2 columns]"
      ]
     },
     "execution_count": 6,
     "metadata": {},
     "output_type": "execute_result"
    }
   ],
   "source": [
    "test_df"
   ]
  },
  {
   "cell_type": "code",
   "execution_count": 5,
   "metadata": {},
   "outputs": [
    {
     "name": "stdout",
     "output_type": "stream",
     "text": [
      "========== loading data DataFrame ==========\n"
     ]
    }
   ],
   "source": [
    "test_df = pd.DataFrame(None, columns=['path', 'filename'])\n",
    "\n",
    "print(\"=\"*10, \"loading data DataFrame\", \"=\"*10)\n",
    "\n",
    "for path in list(test_dic.keys()):\n",
    "    image_list = os.listdir(path)\n",
    "    image_list.sort(key=lambda x: int(os.path.splitext(x)[0]))\n",
    "    temp_df = pd.DataFrame([path]*len(image_list), columns=['path'])\n",
    "    temp_df['filename'] = image_list\n",
    "    test_df = pd.concat([test_df, temp_df]) "
   ]
  },
  {
   "cell_type": "code",
   "execution_count": 7,
   "metadata": {},
   "outputs": [
    {
     "name": "stdout",
     "output_type": "stream",
     "text": [
      "1413\n",
      "(436394, 2)\n",
      "(1413, 2)\n"
     ]
    }
   ],
   "source": [
    "import copy\n",
    "cp_test_dic = copy.deepcopy(test_dic)\n",
    "print(len(cp_test_dic))\n",
    "print(test_df.shape)\n",
    "test_df = test_df.drop_duplicates(subset='path')\n",
    "print(test_df.shape)"
   ]
  },
  {
   "cell_type": "code",
   "execution_count": 8,
   "metadata": {},
   "outputs": [],
   "source": [
    "with open('/ssd2/ming/2024COVID/filter_slice_test_dic1_05_.pickle', 'wb') as handle:\n",
    "    pickle.dump(cp_test_dic, handle, protocol=pickle.HIGHEST_PROTOCOL)\n",
    "test_df.to_csv(\"/ssd2/ming/2024COVID/filter_slice_test_df.csv\", index=False, encoding='utf-8-sig')"
   ]
  }
 ],
 "metadata": {
  "kernelspec": {
   "display_name": "covid2023",
   "language": "python",
   "name": "python3"
  },
  "language_info": {
   "codemirror_mode": {
    "name": "ipython",
    "version": 3
   },
   "file_extension": ".py",
   "mimetype": "text/x-python",
   "name": "python",
   "nbconvert_exporter": "python",
   "pygments_lexer": "ipython3",
   "version": "3.10.0"
  },
  "orig_nbformat": 4,
  "vscode": {
   "interpreter": {
    "hash": "35e4eaf7fc1241741242c84999f2000af8b451353219079a4e5df2fc9b8f3715"
   }
  }
 },
 "nbformat": 4,
 "nbformat_minor": 2
}
